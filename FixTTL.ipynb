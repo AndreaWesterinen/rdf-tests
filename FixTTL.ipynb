{
 "cells": [
  {
   "cell_type": "markdown",
   "id": "6ab8fe4f",
   "metadata": {},
   "source": [
    "# Correct IRIs in TFT manifest-xxx.ttls in the rdf-tests/sparql/sparql11 sub-directories\n",
    "\n",
    "The manifest*.ttls in the sub-directories of rdf-tests/sparql11/data-sparql11 are updated using the Python code below. Those files make reference to SPARQL query, TTL/RDF and other text files (used as inputs and outputs to validate test results) using an IRI declaration (left and right carets) that only specifies a file name with no explicit namespace. \n",
    "\n",
    "Since the IRI does not include a colon (':'), some data stores may have unpredictable behavior when parsing the file names. The references to the file names were updated to change the format from (for example) \"qt:query <projexp01.rq>\" to: \"qt:query :projexp01.rq\", to explicitly use the default namespace specified in the .ttl.\n"
   ]
  },
  {
   "cell_type": "code",
   "execution_count": 1,
   "id": "7e76c716",
   "metadata": {
    "ExecuteTime": {
     "end_time": "2024-02-06T05:14:34.588108Z",
     "start_time": "2024-02-06T05:14:34.506172Z"
    }
   },
   "outputs": [
    {
     "name": "stdout",
     "output_type": "stream",
     "text": [
      "/Users/andreaw/Documents/rdf-tests/sparql/sparql11/property-path/manifest.ttl\n",
      "/Users/andreaw/Documents/rdf-tests/sparql/sparql11/move/manifest.ttl\n",
      "/Users/andreaw/Documents/rdf-tests/sparql/sparql11/syntax-query/manifest.ttl\n",
      "/Users/andreaw/Documents/rdf-tests/sparql/sparql11/http-rdf-update/manifest.ttl\n",
      "/Users/andreaw/Documents/rdf-tests/sparql/sparql11/syntax-update-1/manifest.ttl\n",
      "/Users/andreaw/Documents/rdf-tests/sparql/sparql11/csv-tsv-res/manifest.ttl\n",
      "/Users/andreaw/Documents/rdf-tests/sparql/sparql11/delete-insert/manifest.ttl\n",
      "/Users/andreaw/Documents/rdf-tests/sparql/sparql11/delete/manifest.ttl\n",
      "/Users/andreaw/Documents/rdf-tests/sparql/sparql11/negation/manifest.ttl\n",
      "/Users/andreaw/Documents/rdf-tests/sparql/sparql11/aggregates/manifest.ttl\n",
      "/Users/andreaw/Documents/rdf-tests/sparql/sparql11/subquery/manifest.ttl\n",
      "/Users/andreaw/Documents/rdf-tests/sparql/sparql11/cast/manifest.ttl\n",
      "/Users/andreaw/Documents/rdf-tests/sparql/sparql11/delete-data/manifest.ttl\n",
      "/Users/andreaw/Documents/rdf-tests/sparql/sparql11/exists/manifest.ttl\n",
      "/Users/andreaw/Documents/rdf-tests/sparql/sparql11/grouping/manifest.ttl\n",
      "/Users/andreaw/Documents/rdf-tests/sparql/sparql11/service-description/manifest.ttl\n",
      "/Users/andreaw/Documents/rdf-tests/sparql/sparql11/update-silent/manifest.ttl\n",
      "/Users/andreaw/Documents/rdf-tests/sparql/sparql11/entailment/manifest.ttl\n",
      "/Users/andreaw/Documents/rdf-tests/sparql/sparql11/protocol/manifest.ttl\n",
      "/Users/andreaw/Documents/rdf-tests/sparql/sparql11/clear/manifest.ttl\n",
      "/Users/andreaw/Documents/rdf-tests/sparql/sparql11/drop/manifest.ttl\n",
      "/Users/andreaw/Documents/rdf-tests/sparql/sparql11/add/manifest.ttl\n",
      "/Users/andreaw/Documents/rdf-tests/sparql/sparql11/syntax-fed/manifest.ttl\n",
      "/Users/andreaw/Documents/rdf-tests/sparql/sparql11/syntax-update-2/manifest.ttl\n",
      "/Users/andreaw/Documents/rdf-tests/sparql/sparql11/functions/manifest.ttl\n",
      "/Users/andreaw/Documents/rdf-tests/sparql/sparql11/json-res/manifest.ttl\n",
      "/Users/andreaw/Documents/rdf-tests/sparql/sparql11/copy/manifest.ttl\n",
      "/Users/andreaw/Documents/rdf-tests/sparql/sparql11/basic-update/manifest.ttl\n",
      "/Users/andreaw/Documents/rdf-tests/sparql/sparql11/bindings/manifest.ttl\n",
      "/Users/andreaw/Documents/rdf-tests/sparql/sparql11/service/manifest.ttl\n",
      "/Users/andreaw/Documents/rdf-tests/sparql/sparql11/bind/manifest.ttl\n",
      "/Users/andreaw/Documents/rdf-tests/sparql/sparql11/delete-where/manifest.ttl\n",
      "/Users/andreaw/Documents/rdf-tests/sparql/sparql11/construct/manifest.ttl\n",
      "/Users/andreaw/Documents/rdf-tests/sparql/sparql11/project-expression/manifest.ttl\n"
     ]
    }
   ],
   "source": [
    "import fileinput\n",
    "import glob\n",
    "\n",
    "root_dir = \"/Users/andreaw/Documents/rdf-tests/sparql/sparql11/\"\n",
    "\n",
    "files = []\n",
    "for filename in glob.iglob(root_dir + '**/manifest*.ttl', recursive=True):\n",
    "    if filename.startswith('/Users/andreaw/Documents/rdf-tests/sparql/sparql11/manifest'): \n",
    "        # Skip the top level .ttl files since they are not used in queries (and are handled differently)\n",
    "        continue\n",
    "    files.append(filename)\n",
    "    \n",
    "for name in files:\n",
    "    with fileinput.FileInput(name, inplace = True, backup ='.bak') as infile:\n",
    "        print(name)\n",
    "        for line in infile:\n",
    "            if '.rq>' in line or '.ru>' in line or '.srx>' in line or '.ttl>' in line or '.rdf>' in line \\\n",
    "                    or '.csv>' in line or '.tsv>' in line or '.srj>' in line or '.jmx>' in line \\\n",
    "                    or '.nt>' in line:\n",
    "                new_line = line.replace('<', ':').replace('>', '')\n",
    "                print(new_line, end ='')\n",
    "            else:\n",
    "                print(line, end ='')"
   ]
  },
  {
   "cell_type": "code",
   "execution_count": null,
   "id": "63ddbfd4",
   "metadata": {},
   "outputs": [],
   "source": []
  }
 ],
 "metadata": {
  "kernelspec": {
   "display_name": "Python 3",
   "language": "python",
   "name": "python3"
  },
  "language_info": {
   "codemirror_mode": {
    "name": "ipython",
    "version": 3
   },
   "file_extension": ".py",
   "mimetype": "text/x-python",
   "name": "python",
   "nbconvert_exporter": "python",
   "pygments_lexer": "ipython3",
   "version": "3.8.9"
  },
  "varInspector": {
   "cols": {
    "lenName": 16,
    "lenType": 16,
    "lenVar": 40
   },
   "kernels_config": {
    "python": {
     "delete_cmd_postfix": "",
     "delete_cmd_prefix": "del ",
     "library": "var_list.py",
     "varRefreshCmd": "print(var_dic_list())"
    },
    "r": {
     "delete_cmd_postfix": ") ",
     "delete_cmd_prefix": "rm(",
     "library": "var_list.r",
     "varRefreshCmd": "cat(var_dic_list()) "
    }
   },
   "types_to_exclude": [
    "module",
    "function",
    "builtin_function_or_method",
    "instance",
    "_Feature"
   ],
   "window_display": false
  }
 },
 "nbformat": 4,
 "nbformat_minor": 5
}
